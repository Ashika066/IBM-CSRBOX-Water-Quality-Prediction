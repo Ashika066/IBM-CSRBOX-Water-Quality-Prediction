{
 "metadata": {
  "kernelspec": {
   "language": "python",
   "display_name": "Python 3",
   "name": "python3"
  },
  "language_info": {
   "name": "python",
   "version": "3.10.13",
   "mimetype": "text/x-python",
   "codemirror_mode": {
    "name": "ipython",
    "version": 3
   },
   "pygments_lexer": "ipython3",
   "nbconvert_exporter": "python",
   "file_extension": ".py"
  },
  "kaggle": {
   "accelerator": "nvidiaTeslaT4",
   "dataSources": [
    {
     "sourceId": 2382730,
     "sourceType": "datasetVersion",
     "datasetId": 1438979
    }
   ],
   "dockerImageVersionId": 30747,
   "isInternetEnabled": true,
   "language": "python",
   "sourceType": "notebook",
   "isGpuEnabled": true
  }
 },
 "nbformat_minor": 4,
 "nbformat": 4,
 "cells": [
  {
   "cell_type": "markdown",
   "source": [
    "# **ANN**"
   ],
   "metadata": {}
  },
  {
   "cell_type": "markdown",
   "source": [
    "## **Importing Libraries**"
   ],
   "metadata": {}
  },
  {
   "cell_type": "code",
   "source": [
    "import numpy as np\n",
    "import matplotlib.pyplot as plt\n",
    "import pandas as pd\n",
    "import warnings\n",
    "warnings.filterwarnings(\"ignore\")"
   ],
   "metadata": {
    "_uuid": "8f2839f25d086af736a60e9eeb907d3b93b6e0e5",
    "_cell_guid": "b1076dfc-b9ad-4769-8c92-a6c4dae69d19",
    "execution": {
     "iopub.status.busy": "2024-07-23T15:23:48.066028Z",
     "iopub.execute_input": "2024-07-23T15:23:48.066436Z",
     "iopub.status.idle": "2024-07-23T15:23:48.071880Z",
     "shell.execute_reply.started": "2024-07-23T15:23:48.066402Z",
     "shell.execute_reply": "2024-07-23T15:23:48.070862Z"
    },
    "trusted": true,
    "is_executing": true
   },
   "outputs": [],
   "execution_count": null
  },
  {
   "cell_type": "markdown",
   "source": [
    "## **Importing Dataset** "
   ],
   "metadata": {}
  },
  {
   "cell_type": "code",
   "source": [
    "dataset = pd.read_csv('waterQuality1.csv')\n",
    "dataset = dataset.drop(index=[7551, 7568, 7890], errors='ignore')\n",
    "dataset['ammonia'] = dataset['ammonia'].astype(float)\n",
    "dataset['is_safe'] = dataset['is_safe'].astype(int)\n",
    "dataset.info()"
   ],
   "metadata": {
    "execution": {
     "iopub.status.busy": "2024-07-23T15:23:48.073687Z",
     "iopub.execute_input": "2024-07-23T15:23:48.073954Z",
     "iopub.status.idle": "2024-07-23T15:23:48.129390Z",
     "shell.execute_reply.started": "2024-07-23T15:23:48.073931Z",
     "shell.execute_reply": "2024-07-23T15:23:48.128425Z"
    },
    "trusted": true,
    "ExecuteTime": {
     "end_time": "2024-07-24T12:49:03.371844Z",
     "start_time": "2024-07-24T12:49:03.180913Z"
    }
   },
   "outputs": [
    {
     "name": "stdout",
     "output_type": "stream",
     "text": [
      "<class 'pandas.core.frame.DataFrame'>\n",
      "Index: 7996 entries, 0 to 7998\n",
      "Data columns (total 21 columns):\n",
      " #   Column       Non-Null Count  Dtype  \n",
      "---  ------       --------------  -----  \n",
      " 0   aluminium    7996 non-null   float64\n",
      " 1   ammonia      7996 non-null   float64\n",
      " 2   arsenic      7996 non-null   float64\n",
      " 3   barium       7996 non-null   float64\n",
      " 4   cadmium      7996 non-null   float64\n",
      " 5   chloramine   7996 non-null   float64\n",
      " 6   chromium     7996 non-null   float64\n",
      " 7   copper       7996 non-null   float64\n",
      " 8   flouride     7996 non-null   float64\n",
      " 9   bacteria     7996 non-null   float64\n",
      " 10  viruses      7996 non-null   float64\n",
      " 11  lead         7996 non-null   float64\n",
      " 12  nitrates     7996 non-null   float64\n",
      " 13  nitrites     7996 non-null   float64\n",
      " 14  mercury      7996 non-null   float64\n",
      " 15  perchlorate  7996 non-null   float64\n",
      " 16  radium       7996 non-null   float64\n",
      " 17  selenium     7996 non-null   float64\n",
      " 18  silver       7996 non-null   float64\n",
      " 19  uranium      7996 non-null   float64\n",
      " 20  is_safe      7996 non-null   int32  \n",
      "dtypes: float64(20), int32(1)\n",
      "memory usage: 1.3 MB\n"
     ]
    }
   ],
   "execution_count": 2
  },
  {
   "cell_type": "code",
   "source": [
    "X = dataset.iloc[:, 0: -1].values\n",
    "y = dataset.iloc[:, -1].values\n",
    "X.shape"
   ],
   "metadata": {
    "execution": {
     "iopub.status.busy": "2024-07-23T15:23:48.130920Z",
     "iopub.execute_input": "2024-07-23T15:23:48.131479Z",
     "iopub.status.idle": "2024-07-23T15:23:48.140285Z",
     "shell.execute_reply.started": "2024-07-23T15:23:48.131450Z",
     "shell.execute_reply": "2024-07-23T15:23:48.139340Z"
    },
    "trusted": true,
    "ExecuteTime": {
     "end_time": "2024-07-24T12:49:03.388714Z",
     "start_time": "2024-07-24T12:49:03.372973Z"
    }
   },
   "outputs": [
    {
     "data": {
      "text/plain": "(7996, 20)"
     },
     "execution_count": 3,
     "metadata": {},
     "output_type": "execute_result"
    }
   ],
   "execution_count": 3
  },
  {
   "cell_type": "markdown",
   "source": [
    "## **Spliting Dataset** "
   ],
   "metadata": {}
  },
  {
   "cell_type": "code",
   "source": [
    "from sklearn.model_selection import train_test_split\n",
    "X_train, X_test, y_train, y_test = train_test_split(X, y, test_size = 0.2, random_state = 0)"
   ],
   "metadata": {
    "execution": {
     "iopub.status.busy": "2024-07-23T15:23:48.141819Z",
     "iopub.execute_input": "2024-07-23T15:23:48.142156Z",
     "iopub.status.idle": "2024-07-23T15:23:48.150057Z",
     "shell.execute_reply.started": "2024-07-23T15:23:48.142130Z",
     "shell.execute_reply": "2024-07-23T15:23:48.149041Z"
    },
    "trusted": true,
    "ExecuteTime": {
     "end_time": "2024-07-24T12:49:04.673145Z",
     "start_time": "2024-07-24T12:49:03.390315Z"
    }
   },
   "outputs": [],
   "execution_count": 4
  },
  {
   "cell_type": "markdown",
   "source": [
    "## **Normalizing Data** "
   ],
   "metadata": {}
  },
  {
   "cell_type": "code",
   "source": [
    "from sklearn.preprocessing import StandardScaler\n",
    "sc = StandardScaler()\n",
    "X_train = sc.fit_transform(X_train)\n",
    "X_test = sc.transform(X_test)"
   ],
   "metadata": {
    "execution": {
     "iopub.status.busy": "2024-07-23T15:23:48.152746Z",
     "iopub.execute_input": "2024-07-23T15:23:48.153333Z",
     "iopub.status.idle": "2024-07-23T15:23:48.163483Z",
     "shell.execute_reply.started": "2024-07-23T15:23:48.153304Z",
     "shell.execute_reply": "2024-07-23T15:23:48.162497Z"
    },
    "trusted": true,
    "ExecuteTime": {
     "end_time": "2024-07-24T12:49:04.688790Z",
     "start_time": "2024-07-24T12:49:04.674197Z"
    }
   },
   "outputs": [],
   "execution_count": 5
  },
  {
   "cell_type": "markdown",
   "source": [
    "## **Building the Model**"
   ],
   "metadata": {}
  },
  {
   "cell_type": "code",
   "source": [
    "import keras\n",
    "from keras.models import Sequential\n",
    "from keras.layers import Dense\n",
    "\n",
    "classifier = Sequential()\n",
    "\n",
    "classifier.add(Dense(units=6, kernel_initializer = 'uniform', activation = 'relu', input_dim = 20))\n",
    "\n",
    "classifier.add(Dense(5, kernel_initializer = 'uniform', activation = 'relu'))\n",
    "\n",
    "classifier.add(Dense(7, kernel_initializer = 'uniform', activation = 'relu'))\n",
    "\n",
    "classifier.add(Dense(1, kernel_initializer = 'uniform', activation = 'sigmoid'))"
   ],
   "metadata": {
    "scrolled": true,
    "execution": {
     "iopub.status.busy": "2024-07-23T15:23:48.164844Z",
     "iopub.execute_input": "2024-07-23T15:23:48.165232Z",
     "iopub.status.idle": "2024-07-23T15:23:48.216041Z",
     "shell.execute_reply.started": "2024-07-23T15:23:48.165199Z",
     "shell.execute_reply": "2024-07-23T15:23:48.215161Z"
    },
    "trusted": true,
    "ExecuteTime": {
     "end_time": "2024-07-24T12:49:15.248947Z",
     "start_time": "2024-07-24T12:49:04.690998Z"
    }
   },
   "execution_count": 6,
   "outputs": []
  },
  {
   "cell_type": "markdown",
   "source": [
    "## **Training of the ANN**"
   ],
   "metadata": {}
  },
  {
   "cell_type": "code",
   "source": [
    "classifier.compile(optimizer = 'adam', loss = 'binary_crossentropy', metrics = ['accuracy'])\n",
    "\n",
    "classifier.fit(X_train, y_train, batch_size = 8, epochs = 100)"
   ],
   "metadata": {
    "execution": {
     "iopub.status.busy": "2024-07-23T15:23:48.217168Z",
     "iopub.execute_input": "2024-07-23T15:23:48.217451Z",
     "iopub.status.idle": "2024-07-23T15:26:05.416742Z",
     "shell.execute_reply.started": "2024-07-23T15:23:48.217426Z",
     "shell.execute_reply": "2024-07-23T15:26:05.415764Z"
    },
    "trusted": true,
    "ExecuteTime": {
     "end_time": "2024-07-24T12:51:33.585976Z",
     "start_time": "2024-07-24T12:49:15.251342Z"
    }
   },
   "execution_count": 7,
   "outputs": [
    {
     "name": "stdout",
     "output_type": "stream",
     "text": [
      "Epoch 1/100\n",
      "\u001B[1m800/800\u001B[0m \u001B[32m━━━━━━━━━━━━━━━━━━━━\u001B[0m\u001B[37m\u001B[0m \u001B[1m4s\u001B[0m 2ms/step - accuracy: 0.8725 - loss: 0.6295\n",
      "Epoch 2/100\n",
      "\u001B[1m800/800\u001B[0m \u001B[32m━━━━━━━━━━━━━━━━━━━━\u001B[0m\u001B[37m\u001B[0m \u001B[1m1s\u001B[0m 2ms/step - accuracy: 0.8904 - loss: 0.4577\n",
      "Epoch 3/100\n",
      "\u001B[1m800/800\u001B[0m \u001B[32m━━━━━━━━━━━━━━━━━━━━\u001B[0m\u001B[37m\u001B[0m \u001B[1m2s\u001B[0m 2ms/step - accuracy: 0.8939 - loss: 0.3834\n",
      "Epoch 4/100\n",
      "\u001B[1m800/800\u001B[0m \u001B[32m━━━━━━━━━━━━━━━━━━━━\u001B[0m\u001B[37m\u001B[0m \u001B[1m2s\u001B[0m 2ms/step - accuracy: 0.8881 - loss: 0.3650\n",
      "Epoch 5/100\n",
      "\u001B[1m800/800\u001B[0m \u001B[32m━━━━━━━━━━━━━━━━━━━━\u001B[0m\u001B[37m\u001B[0m \u001B[1m2s\u001B[0m 2ms/step - accuracy: 0.8856 - loss: 0.3597\n",
      "Epoch 6/100\n",
      "\u001B[1m800/800\u001B[0m \u001B[32m━━━━━━━━━━━━━━━━━━━━\u001B[0m\u001B[37m\u001B[0m \u001B[1m2s\u001B[0m 2ms/step - accuracy: 0.8871 - loss: 0.3538\n",
      "Epoch 7/100\n",
      "\u001B[1m800/800\u001B[0m \u001B[32m━━━━━━━━━━━━━━━━━━━━\u001B[0m\u001B[37m\u001B[0m \u001B[1m2s\u001B[0m 2ms/step - accuracy: 0.8896 - loss: 0.3481\n",
      "Epoch 8/100\n",
      "\u001B[1m800/800\u001B[0m \u001B[32m━━━━━━━━━━━━━━━━━━━━\u001B[0m\u001B[37m\u001B[0m \u001B[1m2s\u001B[0m 2ms/step - accuracy: 0.8838 - loss: 0.3592\n",
      "Epoch 9/100\n",
      "\u001B[1m800/800\u001B[0m \u001B[32m━━━━━━━━━━━━━━━━━━━━\u001B[0m\u001B[37m\u001B[0m \u001B[1m2s\u001B[0m 2ms/step - accuracy: 0.8894 - loss: 0.3480\n",
      "Epoch 10/100\n",
      "\u001B[1m800/800\u001B[0m \u001B[32m━━━━━━━━━━━━━━━━━━━━\u001B[0m\u001B[37m\u001B[0m \u001B[1m2s\u001B[0m 2ms/step - accuracy: 0.8812 - loss: 0.3646\n",
      "Epoch 11/100\n",
      "\u001B[1m800/800\u001B[0m \u001B[32m━━━━━━━━━━━━━━━━━━━━\u001B[0m\u001B[37m\u001B[0m \u001B[1m2s\u001B[0m 2ms/step - accuracy: 0.8825 - loss: 0.3619\n",
      "Epoch 12/100\n",
      "\u001B[1m800/800\u001B[0m \u001B[32m━━━━━━━━━━━━━━━━━━━━\u001B[0m\u001B[37m\u001B[0m \u001B[1m2s\u001B[0m 2ms/step - accuracy: 0.8861 - loss: 0.3547\n",
      "Epoch 13/100\n",
      "\u001B[1m800/800\u001B[0m \u001B[32m━━━━━━━━━━━━━━━━━━━━\u001B[0m\u001B[37m\u001B[0m \u001B[1m2s\u001B[0m 2ms/step - accuracy: 0.8878 - loss: 0.3512\n",
      "Epoch 14/100\n",
      "\u001B[1m800/800\u001B[0m \u001B[32m━━━━━━━━━━━━━━━━━━━━\u001B[0m\u001B[37m\u001B[0m \u001B[1m2s\u001B[0m 2ms/step - accuracy: 0.8835 - loss: 0.3599\n",
      "Epoch 15/100\n",
      "\u001B[1m800/800\u001B[0m \u001B[32m━━━━━━━━━━━━━━━━━━━━\u001B[0m\u001B[37m\u001B[0m \u001B[1m2s\u001B[0m 2ms/step - accuracy: 0.8952 - loss: 0.3360\n",
      "Epoch 16/100\n",
      "\u001B[1m800/800\u001B[0m \u001B[32m━━━━━━━━━━━━━━━━━━━━\u001B[0m\u001B[37m\u001B[0m \u001B[1m1s\u001B[0m 2ms/step - accuracy: 0.8773 - loss: 0.3724\n",
      "Epoch 17/100\n",
      "\u001B[1m800/800\u001B[0m \u001B[32m━━━━━━━━━━━━━━━━━━━━\u001B[0m\u001B[37m\u001B[0m \u001B[1m1s\u001B[0m 2ms/step - accuracy: 0.8819 - loss: 0.3631\n",
      "Epoch 18/100\n",
      "\u001B[1m800/800\u001B[0m \u001B[32m━━━━━━━━━━━━━━━━━━━━\u001B[0m\u001B[37m\u001B[0m \u001B[1m1s\u001B[0m 2ms/step - accuracy: 0.8805 - loss: 0.3660\n",
      "Epoch 19/100\n",
      "\u001B[1m800/800\u001B[0m \u001B[32m━━━━━━━━━━━━━━━━━━━━\u001B[0m\u001B[37m\u001B[0m \u001B[1m1s\u001B[0m 2ms/step - accuracy: 0.8782 - loss: 0.3708\n",
      "Epoch 20/100\n",
      "\u001B[1m800/800\u001B[0m \u001B[32m━━━━━━━━━━━━━━━━━━━━\u001B[0m\u001B[37m\u001B[0m \u001B[1m1s\u001B[0m 2ms/step - accuracy: 0.8767 - loss: 0.3739\n",
      "Epoch 21/100\n",
      "\u001B[1m800/800\u001B[0m \u001B[32m━━━━━━━━━━━━━━━━━━━━\u001B[0m\u001B[37m\u001B[0m \u001B[1m1s\u001B[0m 2ms/step - accuracy: 0.8852 - loss: 0.3564\n",
      "Epoch 22/100\n",
      "\u001B[1m800/800\u001B[0m \u001B[32m━━━━━━━━━━━━━━━━━━━━\u001B[0m\u001B[37m\u001B[0m \u001B[1m1s\u001B[0m 2ms/step - accuracy: 0.8820 - loss: 0.3631\n",
      "Epoch 23/100\n",
      "\u001B[1m800/800\u001B[0m \u001B[32m━━━━━━━━━━━━━━━━━━━━\u001B[0m\u001B[37m\u001B[0m \u001B[1m1s\u001B[0m 2ms/step - accuracy: 0.8854 - loss: 0.3562\n",
      "Epoch 24/100\n",
      "\u001B[1m800/800\u001B[0m \u001B[32m━━━━━━━━━━━━━━━━━━━━\u001B[0m\u001B[37m\u001B[0m \u001B[1m1s\u001B[0m 2ms/step - accuracy: 0.8853 - loss: 0.3563\n",
      "Epoch 25/100\n",
      "\u001B[1m800/800\u001B[0m \u001B[32m━━━━━━━━━━━━━━━━━━━━\u001B[0m\u001B[37m\u001B[0m \u001B[1m1s\u001B[0m 2ms/step - accuracy: 0.8929 - loss: 0.3405\n",
      "Epoch 26/100\n",
      "\u001B[1m800/800\u001B[0m \u001B[32m━━━━━━━━━━━━━━━━━━━━\u001B[0m\u001B[37m\u001B[0m \u001B[1m1s\u001B[0m 2ms/step - accuracy: 0.8858 - loss: 0.3553\n",
      "Epoch 27/100\n",
      "\u001B[1m800/800\u001B[0m \u001B[32m━━━━━━━━━━━━━━━━━━━━\u001B[0m\u001B[37m\u001B[0m \u001B[1m1s\u001B[0m 2ms/step - accuracy: 0.8777 - loss: 0.3718\n",
      "Epoch 28/100\n",
      "\u001B[1m800/800\u001B[0m \u001B[32m━━━━━━━━━━━━━━━━━━━━\u001B[0m\u001B[37m\u001B[0m \u001B[1m1s\u001B[0m 2ms/step - accuracy: 0.8841 - loss: 0.3587\n",
      "Epoch 29/100\n",
      "\u001B[1m800/800\u001B[0m \u001B[32m━━━━━━━━━━━━━━━━━━━━\u001B[0m\u001B[37m\u001B[0m \u001B[1m1s\u001B[0m 2ms/step - accuracy: 0.8830 - loss: 0.3609\n",
      "Epoch 30/100\n",
      "\u001B[1m800/800\u001B[0m \u001B[32m━━━━━━━━━━━━━━━━━━━━\u001B[0m\u001B[37m\u001B[0m \u001B[1m1s\u001B[0m 2ms/step - accuracy: 0.8927 - loss: 0.3412\n",
      "Epoch 31/100\n",
      "\u001B[1m800/800\u001B[0m \u001B[32m━━━━━━━━━━━━━━━━━━━━\u001B[0m\u001B[37m\u001B[0m \u001B[1m1s\u001B[0m 2ms/step - accuracy: 0.8836 - loss: 0.3597\n",
      "Epoch 32/100\n",
      "\u001B[1m800/800\u001B[0m \u001B[32m━━━━━━━━━━━━━━━━━━━━\u001B[0m\u001B[37m\u001B[0m \u001B[1m1s\u001B[0m 2ms/step - accuracy: 0.8837 - loss: 0.3595\n",
      "Epoch 33/100\n",
      "\u001B[1m800/800\u001B[0m \u001B[32m━━━━━━━━━━━━━━━━━━━━\u001B[0m\u001B[37m\u001B[0m \u001B[1m1s\u001B[0m 2ms/step - accuracy: 0.8895 - loss: 0.3477\n",
      "Epoch 34/100\n",
      "\u001B[1m800/800\u001B[0m \u001B[32m━━━━━━━━━━━━━━━━━━━━\u001B[0m\u001B[37m\u001B[0m \u001B[1m1s\u001B[0m 2ms/step - accuracy: 0.8901 - loss: 0.3465\n",
      "Epoch 35/100\n",
      "\u001B[1m800/800\u001B[0m \u001B[32m━━━━━━━━━━━━━━━━━━━━\u001B[0m\u001B[37m\u001B[0m \u001B[1m1s\u001B[0m 2ms/step - accuracy: 0.8849 - loss: 0.3570\n",
      "Epoch 36/100\n",
      "\u001B[1m800/800\u001B[0m \u001B[32m━━━━━━━━━━━━━━━━━━━━\u001B[0m\u001B[37m\u001B[0m \u001B[1m1s\u001B[0m 2ms/step - accuracy: 0.8836 - loss: 0.3598\n",
      "Epoch 37/100\n",
      "\u001B[1m800/800\u001B[0m \u001B[32m━━━━━━━━━━━━━━━━━━━━\u001B[0m\u001B[37m\u001B[0m \u001B[1m1s\u001B[0m 2ms/step - accuracy: 0.8880 - loss: 0.3507\n",
      "Epoch 38/100\n",
      "\u001B[1m800/800\u001B[0m \u001B[32m━━━━━━━━━━━━━━━━━━━━\u001B[0m\u001B[37m\u001B[0m \u001B[1m1s\u001B[0m 2ms/step - accuracy: 0.8882 - loss: 0.3504\n",
      "Epoch 39/100\n",
      "\u001B[1m800/800\u001B[0m \u001B[32m━━━━━━━━━━━━━━━━━━━━\u001B[0m\u001B[37m\u001B[0m \u001B[1m1s\u001B[0m 2ms/step - accuracy: 0.8839 - loss: 0.3592\n",
      "Epoch 40/100\n",
      "\u001B[1m800/800\u001B[0m \u001B[32m━━━━━━━━━━━━━━━━━━━━\u001B[0m\u001B[37m\u001B[0m \u001B[1m1s\u001B[0m 2ms/step - accuracy: 0.8842 - loss: 0.3586\n",
      "Epoch 41/100\n",
      "\u001B[1m800/800\u001B[0m \u001B[32m━━━━━━━━━━━━━━━━━━━━\u001B[0m\u001B[37m\u001B[0m \u001B[1m1s\u001B[0m 2ms/step - accuracy: 0.8822 - loss: 0.3627\n",
      "Epoch 42/100\n",
      "\u001B[1m800/800\u001B[0m \u001B[32m━━━━━━━━━━━━━━━━━━━━\u001B[0m\u001B[37m\u001B[0m \u001B[1m1s\u001B[0m 2ms/step - accuracy: 0.8924 - loss: 0.3418\n",
      "Epoch 43/100\n",
      "\u001B[1m800/800\u001B[0m \u001B[32m━━━━━━━━━━━━━━━━━━━━\u001B[0m\u001B[37m\u001B[0m \u001B[1m1s\u001B[0m 2ms/step - accuracy: 0.8894 - loss: 0.3478\n",
      "Epoch 44/100\n",
      "\u001B[1m800/800\u001B[0m \u001B[32m━━━━━━━━━━━━━━━━━━━━\u001B[0m\u001B[37m\u001B[0m \u001B[1m1s\u001B[0m 2ms/step - accuracy: 0.8864 - loss: 0.3539\n",
      "Epoch 45/100\n",
      "\u001B[1m800/800\u001B[0m \u001B[32m━━━━━━━━━━━━━━━━━━━━\u001B[0m\u001B[37m\u001B[0m \u001B[1m1s\u001B[0m 2ms/step - accuracy: 0.8860 - loss: 0.3548\n",
      "Epoch 46/100\n",
      "\u001B[1m800/800\u001B[0m \u001B[32m━━━━━━━━━━━━━━━━━━━━\u001B[0m\u001B[37m\u001B[0m \u001B[1m1s\u001B[0m 2ms/step - accuracy: 0.8832 - loss: 0.3606\n",
      "Epoch 47/100\n",
      "\u001B[1m800/800\u001B[0m \u001B[32m━━━━━━━━━━━━━━━━━━━━\u001B[0m\u001B[37m\u001B[0m \u001B[1m1s\u001B[0m 2ms/step - accuracy: 0.8887 - loss: 0.3493\n",
      "Epoch 48/100\n",
      "\u001B[1m800/800\u001B[0m \u001B[32m━━━━━━━━━━━━━━━━━━━━\u001B[0m\u001B[37m\u001B[0m \u001B[1m1s\u001B[0m 2ms/step - accuracy: 0.8863 - loss: 0.3542\n",
      "Epoch 49/100\n",
      "\u001B[1m800/800\u001B[0m \u001B[32m━━━━━━━━━━━━━━━━━━━━\u001B[0m\u001B[37m\u001B[0m \u001B[1m1s\u001B[0m 2ms/step - accuracy: 0.8868 - loss: 0.3532\n",
      "Epoch 50/100\n",
      "\u001B[1m800/800\u001B[0m \u001B[32m━━━━━━━━━━━━━━━━━━━━\u001B[0m\u001B[37m\u001B[0m \u001B[1m1s\u001B[0m 2ms/step - accuracy: 0.8847 - loss: 0.3575\n",
      "Epoch 51/100\n",
      "\u001B[1m800/800\u001B[0m \u001B[32m━━━━━━━━━━━━━━━━━━━━\u001B[0m\u001B[37m\u001B[0m \u001B[1m1s\u001B[0m 2ms/step - accuracy: 0.8877 - loss: 0.3514\n",
      "Epoch 52/100\n",
      "\u001B[1m800/800\u001B[0m \u001B[32m━━━━━━━━━━━━━━━━━━━━\u001B[0m\u001B[37m\u001B[0m \u001B[1m1s\u001B[0m 2ms/step - accuracy: 0.8856 - loss: 0.3557\n",
      "Epoch 53/100\n",
      "\u001B[1m800/800\u001B[0m \u001B[32m━━━━━━━━━━━━━━━━━━━━\u001B[0m\u001B[37m\u001B[0m \u001B[1m1s\u001B[0m 2ms/step - accuracy: 0.8883 - loss: 0.3502\n",
      "Epoch 54/100\n",
      "\u001B[1m800/800\u001B[0m \u001B[32m━━━━━━━━━━━━━━━━━━━━\u001B[0m\u001B[37m\u001B[0m \u001B[1m1s\u001B[0m 2ms/step - accuracy: 0.8928 - loss: 0.3409\n",
      "Epoch 55/100\n",
      "\u001B[1m800/800\u001B[0m \u001B[32m━━━━━━━━━━━━━━━━━━━━\u001B[0m\u001B[37m\u001B[0m \u001B[1m1s\u001B[0m 2ms/step - accuracy: 0.8889 - loss: 0.3489\n",
      "Epoch 56/100\n",
      "\u001B[1m800/800\u001B[0m \u001B[32m━━━━━━━━━━━━━━━━━━━━\u001B[0m\u001B[37m\u001B[0m \u001B[1m1s\u001B[0m 2ms/step - accuracy: 0.8885 - loss: 0.3497\n",
      "Epoch 57/100\n",
      "\u001B[1m800/800\u001B[0m \u001B[32m━━━━━━━━━━━━━━━━━━━━\u001B[0m\u001B[37m\u001B[0m \u001B[1m1s\u001B[0m 2ms/step - accuracy: 0.8894 - loss: 0.3478\n",
      "Epoch 58/100\n",
      "\u001B[1m800/800\u001B[0m \u001B[32m━━━━━━━━━━━━━━━━━━━━\u001B[0m\u001B[37m\u001B[0m \u001B[1m1s\u001B[0m 2ms/step - accuracy: 0.8813 - loss: 0.3644\n",
      "Epoch 59/100\n",
      "\u001B[1m800/800\u001B[0m \u001B[32m━━━━━━━━━━━━━━━━━━━━\u001B[0m\u001B[37m\u001B[0m \u001B[1m1s\u001B[0m 2ms/step - accuracy: 0.8848 - loss: 0.3573\n",
      "Epoch 60/100\n",
      "\u001B[1m800/800\u001B[0m \u001B[32m━━━━━━━━━━━━━━━━━━━━\u001B[0m\u001B[37m\u001B[0m \u001B[1m1s\u001B[0m 2ms/step - accuracy: 0.8852 - loss: 0.3566\n",
      "Epoch 61/100\n",
      "\u001B[1m800/800\u001B[0m \u001B[32m━━━━━━━━━━━━━━━━━━━━\u001B[0m\u001B[37m\u001B[0m \u001B[1m1s\u001B[0m 2ms/step - accuracy: 0.8831 - loss: 0.3609\n",
      "Epoch 62/100\n",
      "\u001B[1m800/800\u001B[0m \u001B[32m━━━━━━━━━━━━━━━━━━━━\u001B[0m\u001B[37m\u001B[0m \u001B[1m1s\u001B[0m 2ms/step - accuracy: 0.8841 - loss: 0.3586\n",
      "Epoch 63/100\n",
      "\u001B[1m800/800\u001B[0m \u001B[32m━━━━━━━━━━━━━━━━━━━━\u001B[0m\u001B[37m\u001B[0m \u001B[1m1s\u001B[0m 1ms/step - accuracy: 0.8865 - loss: 0.3538\n",
      "Epoch 64/100\n",
      "\u001B[1m800/800\u001B[0m \u001B[32m━━━━━━━━━━━━━━━━━━━━\u001B[0m\u001B[37m\u001B[0m \u001B[1m1s\u001B[0m 2ms/step - accuracy: 0.8820 - loss: 0.3630\n",
      "Epoch 65/100\n",
      "\u001B[1m800/800\u001B[0m \u001B[32m━━━━━━━━━━━━━━━━━━━━\u001B[0m\u001B[37m\u001B[0m \u001B[1m1s\u001B[0m 2ms/step - accuracy: 0.8778 - loss: 0.3717\n",
      "Epoch 66/100\n",
      "\u001B[1m800/800\u001B[0m \u001B[32m━━━━━━━━━━━━━━━━━━━━\u001B[0m\u001B[37m\u001B[0m \u001B[1m1s\u001B[0m 2ms/step - accuracy: 0.8870 - loss: 0.3528\n",
      "Epoch 67/100\n",
      "\u001B[1m800/800\u001B[0m \u001B[32m━━━━━━━━━━━━━━━━━━━━\u001B[0m\u001B[37m\u001B[0m \u001B[1m1s\u001B[0m 2ms/step - accuracy: 0.8887 - loss: 0.3493\n",
      "Epoch 68/100\n",
      "\u001B[1m800/800\u001B[0m \u001B[32m━━━━━━━━━━━━━━━━━━━━\u001B[0m\u001B[37m\u001B[0m \u001B[1m1s\u001B[0m 2ms/step - accuracy: 0.8807 - loss: 0.3656\n",
      "Epoch 69/100\n",
      "\u001B[1m800/800\u001B[0m \u001B[32m━━━━━━━━━━━━━━━━━━━━\u001B[0m\u001B[37m\u001B[0m \u001B[1m1s\u001B[0m 2ms/step - accuracy: 0.8829 - loss: 0.3611\n",
      "Epoch 70/100\n",
      "\u001B[1m800/800\u001B[0m \u001B[32m━━━━━━━━━━━━━━━━━━━━\u001B[0m\u001B[37m\u001B[0m \u001B[1m1s\u001B[0m 1ms/step - accuracy: 0.8879 - loss: 0.3510\n",
      "Epoch 71/100\n",
      "\u001B[1m800/800\u001B[0m \u001B[32m━━━━━━━━━━━━━━━━━━━━\u001B[0m\u001B[37m\u001B[0m \u001B[1m1s\u001B[0m 1ms/step - accuracy: 0.8831 - loss: 0.3607\n",
      "Epoch 72/100\n",
      "\u001B[1m800/800\u001B[0m \u001B[32m━━━━━━━━━━━━━━━━━━━━\u001B[0m\u001B[37m\u001B[0m \u001B[1m1s\u001B[0m 1ms/step - accuracy: 0.8862 - loss: 0.3544\n",
      "Epoch 73/100\n",
      "\u001B[1m800/800\u001B[0m \u001B[32m━━━━━━━━━━━━━━━━━━━━\u001B[0m\u001B[37m\u001B[0m \u001B[1m1s\u001B[0m 2ms/step - accuracy: 0.8779 - loss: 0.3715\n",
      "Epoch 74/100\n",
      "\u001B[1m800/800\u001B[0m \u001B[32m━━━━━━━━━━━━━━━━━━━━\u001B[0m\u001B[37m\u001B[0m \u001B[1m1s\u001B[0m 2ms/step - accuracy: 0.8790 - loss: 0.3693\n",
      "Epoch 75/100\n",
      "\u001B[1m800/800\u001B[0m \u001B[32m━━━━━━━━━━━━━━━━━━━━\u001B[0m\u001B[37m\u001B[0m \u001B[1m1s\u001B[0m 2ms/step - accuracy: 0.8874 - loss: 0.3521\n",
      "Epoch 76/100\n",
      "\u001B[1m800/800\u001B[0m \u001B[32m━━━━━━━━━━━━━━━━━━━━\u001B[0m\u001B[37m\u001B[0m \u001B[1m1s\u001B[0m 2ms/step - accuracy: 0.8911 - loss: 0.3443\n",
      "Epoch 77/100\n",
      "\u001B[1m800/800\u001B[0m \u001B[32m━━━━━━━━━━━━━━━━━━━━\u001B[0m\u001B[37m\u001B[0m \u001B[1m1s\u001B[0m 2ms/step - accuracy: 0.8833 - loss: 0.3602\n",
      "Epoch 78/100\n",
      "\u001B[1m800/800\u001B[0m \u001B[32m━━━━━━━━━━━━━━━━━━━━\u001B[0m\u001B[37m\u001B[0m \u001B[1m1s\u001B[0m 2ms/step - accuracy: 0.8943 - loss: 0.3377\n",
      "Epoch 79/100\n",
      "\u001B[1m800/800\u001B[0m \u001B[32m━━━━━━━━━━━━━━━━━━━━\u001B[0m\u001B[37m\u001B[0m \u001B[1m1s\u001B[0m 2ms/step - accuracy: 0.8858 - loss: 0.3553\n",
      "Epoch 80/100\n",
      "\u001B[1m800/800\u001B[0m \u001B[32m━━━━━━━━━━━━━━━━━━━━\u001B[0m\u001B[37m\u001B[0m \u001B[1m1s\u001B[0m 2ms/step - accuracy: 0.8888 - loss: 0.3491\n",
      "Epoch 81/100\n",
      "\u001B[1m800/800\u001B[0m \u001B[32m━━━━━━━━━━━━━━━━━━━━\u001B[0m\u001B[37m\u001B[0m \u001B[1m1s\u001B[0m 2ms/step - accuracy: 0.8898 - loss: 0.3470\n",
      "Epoch 82/100\n",
      "\u001B[1m800/800\u001B[0m \u001B[32m━━━━━━━━━━━━━━━━━━━━\u001B[0m\u001B[37m\u001B[0m \u001B[1m1s\u001B[0m 2ms/step - accuracy: 0.8934 - loss: 0.3397\n",
      "Epoch 83/100\n",
      "\u001B[1m800/800\u001B[0m \u001B[32m━━━━━━━━━━━━━━━━━━━━\u001B[0m\u001B[37m\u001B[0m \u001B[1m1s\u001B[0m 2ms/step - accuracy: 0.8788 - loss: 0.3695\n",
      "Epoch 84/100\n",
      "\u001B[1m800/800\u001B[0m \u001B[32m━━━━━━━━━━━━━━━━━━━━\u001B[0m\u001B[37m\u001B[0m \u001B[1m1s\u001B[0m 2ms/step - accuracy: 0.8870 - loss: 0.3528\n",
      "Epoch 85/100\n",
      "\u001B[1m800/800\u001B[0m \u001B[32m━━━━━━━━━━━━━━━━━━━━\u001B[0m\u001B[37m\u001B[0m \u001B[1m1s\u001B[0m 2ms/step - accuracy: 0.8821 - loss: 0.3628\n",
      "Epoch 86/100\n",
      "\u001B[1m800/800\u001B[0m \u001B[32m━━━━━━━━━━━━━━━━━━━━\u001B[0m\u001B[37m\u001B[0m \u001B[1m1s\u001B[0m 2ms/step - accuracy: 0.8857 - loss: 0.3555\n",
      "Epoch 87/100\n",
      "\u001B[1m800/800\u001B[0m \u001B[32m━━━━━━━━━━━━━━━━━━━━\u001B[0m\u001B[37m\u001B[0m \u001B[1m1s\u001B[0m 2ms/step - accuracy: 0.8861 - loss: 0.3547\n",
      "Epoch 88/100\n",
      "\u001B[1m800/800\u001B[0m \u001B[32m━━━━━━━━━━━━━━━━━━━━\u001B[0m\u001B[37m\u001B[0m \u001B[1m1s\u001B[0m 2ms/step - accuracy: 0.8882 - loss: 0.3502\n",
      "Epoch 89/100\n",
      "\u001B[1m800/800\u001B[0m \u001B[32m━━━━━━━━━━━━━━━━━━━━\u001B[0m\u001B[37m\u001B[0m \u001B[1m1s\u001B[0m 2ms/step - accuracy: 0.8803 - loss: 0.3665\n",
      "Epoch 90/100\n",
      "\u001B[1m800/800\u001B[0m \u001B[32m━━━━━━━━━━━━━━━━━━━━\u001B[0m\u001B[37m\u001B[0m \u001B[1m1s\u001B[0m 2ms/step - accuracy: 0.8829 - loss: 0.3612\n",
      "Epoch 91/100\n",
      "\u001B[1m800/800\u001B[0m \u001B[32m━━━━━━━━━━━━━━━━━━━━\u001B[0m\u001B[37m\u001B[0m \u001B[1m1s\u001B[0m 2ms/step - accuracy: 0.8862 - loss: 0.3543\n",
      "Epoch 92/100\n",
      "\u001B[1m800/800\u001B[0m \u001B[32m━━━━━━━━━━━━━━━━━━━━\u001B[0m\u001B[37m\u001B[0m \u001B[1m1s\u001B[0m 2ms/step - accuracy: 0.8846 - loss: 0.3576\n",
      "Epoch 93/100\n",
      "\u001B[1m800/800\u001B[0m \u001B[32m━━━━━━━━━━━━━━━━━━━━\u001B[0m\u001B[37m\u001B[0m \u001B[1m1s\u001B[0m 2ms/step - accuracy: 0.8890 - loss: 0.3487\n",
      "Epoch 94/100\n",
      "\u001B[1m800/800\u001B[0m \u001B[32m━━━━━━━━━━━━━━━━━━━━\u001B[0m\u001B[37m\u001B[0m \u001B[1m1s\u001B[0m 2ms/step - accuracy: 0.8885 - loss: 0.3497\n",
      "Epoch 95/100\n",
      "\u001B[1m800/800\u001B[0m \u001B[32m━━━━━━━━━━━━━━━━━━━━\u001B[0m\u001B[37m\u001B[0m \u001B[1m1s\u001B[0m 2ms/step - accuracy: 0.8902 - loss: 0.3462\n",
      "Epoch 96/100\n",
      "\u001B[1m800/800\u001B[0m \u001B[32m━━━━━━━━━━━━━━━━━━━━\u001B[0m\u001B[37m\u001B[0m \u001B[1m1s\u001B[0m 2ms/step - accuracy: 0.8890 - loss: 0.3487\n",
      "Epoch 97/100\n",
      "\u001B[1m800/800\u001B[0m \u001B[32m━━━━━━━━━━━━━━━━━━━━\u001B[0m\u001B[37m\u001B[0m \u001B[1m1s\u001B[0m 2ms/step - accuracy: 0.8802 - loss: 0.3666\n",
      "Epoch 98/100\n",
      "\u001B[1m800/800\u001B[0m \u001B[32m━━━━━━━━━━━━━━━━━━━━\u001B[0m\u001B[37m\u001B[0m \u001B[1m1s\u001B[0m 2ms/step - accuracy: 0.8912 - loss: 0.3442\n",
      "Epoch 99/100\n",
      "\u001B[1m800/800\u001B[0m \u001B[32m━━━━━━━━━━━━━━━━━━━━\u001B[0m\u001B[37m\u001B[0m \u001B[1m1s\u001B[0m 2ms/step - accuracy: 0.8783 - loss: 0.3705\n",
      "Epoch 100/100\n",
      "\u001B[1m800/800\u001B[0m \u001B[32m━━━━━━━━━━━━━━━━━━━━\u001B[0m\u001B[37m\u001B[0m \u001B[1m1s\u001B[0m 2ms/step - accuracy: 0.8887 - loss: 0.3493\n"
     ]
    },
    {
     "data": {
      "text/plain": "<keras.src.callbacks.history.History at 0x21e5b0d0e10>"
     },
     "execution_count": 7,
     "metadata": {},
     "output_type": "execute_result"
    }
   ]
  },
  {
   "cell_type": "markdown",
   "source": [
    "## **Saving Model**"
   ],
   "metadata": {}
  },
  {
   "cell_type": "code",
   "source": [
    "classifier.save('water_quality_model.h5')"
   ],
   "metadata": {
    "execution": {
     "iopub.status.busy": "2024-07-23T15:26:05.417941Z",
     "iopub.execute_input": "2024-07-23T15:26:05.418252Z",
     "iopub.status.idle": "2024-07-23T15:26:05.443906Z",
     "shell.execute_reply.started": "2024-07-23T15:26:05.418227Z",
     "shell.execute_reply": "2024-07-23T15:26:05.443244Z"
    },
    "trusted": true,
    "ExecuteTime": {
     "end_time": "2024-07-24T12:51:33.669131Z",
     "start_time": "2024-07-24T12:51:33.589800Z"
    }
   },
   "execution_count": 8,
   "outputs": [
    {
     "name": "stderr",
     "output_type": "stream",
     "text": [
      "WARNING:absl:You are saving your model as an HDF5 file via `model.save()` or `keras.saving.save_model(model)`. This file format is considered legacy. We recommend using instead the native Keras format, e.g. `model.save('my_model.keras')` or `keras.saving.save_model(model, 'my_model.keras')`. \n"
     ]
    }
   ]
  },
  {
   "cell_type": "markdown",
   "source": [
    "## **Predicting On Test Data**"
   ],
   "metadata": {}
  },
  {
   "cell_type": "code",
   "source": [
    "y_pred = classifier.predict(X_test)\n",
    "\n",
    "y_new_pred = []\n",
    "\n",
    "for prediction in y_pred:\n",
    "    if prediction > 0.5:\n",
    "        y_new_pred.append(1)\n",
    "    else:\n",
    "        y_new_pred.append(0)"
   ],
   "metadata": {
    "execution": {
     "iopub.status.busy": "2024-07-23T15:26:05.444876Z",
     "iopub.execute_input": "2024-07-23T15:26:05.445178Z",
     "iopub.status.idle": "2024-07-23T15:26:05.710473Z",
     "shell.execute_reply.started": "2024-07-23T15:26:05.445154Z",
     "shell.execute_reply": "2024-07-23T15:26:05.709654Z"
    },
    "trusted": true,
    "ExecuteTime": {
     "end_time": "2024-07-24T12:51:33.929435Z",
     "start_time": "2024-07-24T12:51:33.670864Z"
    }
   },
   "execution_count": 9,
   "outputs": [
    {
     "name": "stdout",
     "output_type": "stream",
     "text": [
      "\u001B[1m50/50\u001B[0m \u001B[32m━━━━━━━━━━━━━━━━━━━━\u001B[0m\u001B[37m\u001B[0m \u001B[1m0s\u001B[0m 1ms/step\n"
     ]
    }
   ]
  },
  {
   "cell_type": "markdown",
   "source": [
    "## **Accuracy on Test Data**"
   ],
   "metadata": {}
  },
  {
   "cell_type": "code",
   "source": [
    "from sklearn.metrics import accuracy_score\n",
    "print(accuracy_score(y_test,y_new_pred))"
   ],
   "metadata": {
    "execution": {
     "iopub.status.busy": "2024-07-23T15:26:05.711790Z",
     "iopub.execute_input": "2024-07-23T15:26:05.712282Z",
     "iopub.status.idle": "2024-07-23T15:26:05.719382Z",
     "shell.execute_reply.started": "2024-07-23T15:26:05.712245Z",
     "shell.execute_reply": "2024-07-23T15:26:05.718532Z"
    },
    "trusted": true,
    "ExecuteTime": {
     "end_time": "2024-07-24T12:51:33.940252Z",
     "start_time": "2024-07-24T12:51:33.932246Z"
    }
   },
   "execution_count": 10,
   "outputs": [
    {
     "name": "stdout",
     "output_type": "stream",
     "text": [
      "0.886875\n"
     ]
    }
   ]
  },
  {
   "cell_type": "markdown",
   "source": [
    "## **Confusion Matrix**"
   ],
   "metadata": {}
  },
  {
   "cell_type": "code",
   "source": [
    "from sklearn.metrics import confusion_matrix\n",
    "import seaborn as sns\n",
    "cm = confusion_matrix(y_test, y_new_pred)\n",
    "sns.heatmap(cm, annot=True,fmt=\"d\")"
   ],
   "metadata": {
    "execution": {
     "iopub.status.busy": "2024-07-23T15:26:05.720598Z",
     "iopub.execute_input": "2024-07-23T15:26:05.721171Z",
     "iopub.status.idle": "2024-07-23T15:26:06.015042Z",
     "shell.execute_reply.started": "2024-07-23T15:26:05.721134Z",
     "shell.execute_reply": "2024-07-23T15:26:06.014117Z"
    },
    "trusted": true,
    "ExecuteTime": {
     "end_time": "2024-07-24T12:51:34.284222Z",
     "start_time": "2024-07-24T12:51:33.942518Z"
    }
   },
   "execution_count": 11,
   "outputs": [
    {
     "data": {
      "text/plain": "<Axes: >"
     },
     "execution_count": 11,
     "metadata": {},
     "output_type": "execute_result"
    },
    {
     "data": {
      "text/plain": "<Figure size 640x480 with 2 Axes>",
      "image/png": "[encoded data removed]"
     },
     "metadata": {},
     "output_type": "display_data"
    }
   ]
  },
  {
   "cell_type": "code",
   "source": [
    "import numpy as np\n",
    "input_data = (1.65,9.08,0.04,2.85,0.007,0.35,0.83,0.17,0.05,0.2,0,0.054,16.08,1.13,0.007,37.75,6.78,0.08,0.34,0.02)\n",
    "\n",
    "\n",
    "input_data_as_numpy_array = np.asarray(input_data)\n",
    "\n",
    "input_data_reshaped = input_data_as_numpy_array.reshape(1,-1)\n",
    "\n",
    "std_data = sc.transform(input_data_reshaped)\n",
    "print(std_data)\n",
    "\n",
    "prediction = classifier.predict(std_data)\n",
    "print(prediction)"
   ],
   "metadata": {
    "execution": {
     "iopub.status.busy": "2024-07-23T15:26:06.016210Z",
     "iopub.execute_input": "2024-07-23T15:26:06.016485Z",
     "iopub.status.idle": "2024-07-23T15:26:06.226593Z",
     "shell.execute_reply.started": "2024-07-23T15:26:06.016463Z",
     "shell.execute_reply": "2024-07-23T15:26:06.225595Z"
    },
    "trusted": true,
    "ExecuteTime": {
     "end_time": "2024-07-24T12:51:34.453565Z",
     "start_time": "2024-07-24T12:51:34.287273Z"
    }
   },
   "execution_count": 12,
   "outputs": [
    {
     "name": "stdout",
     "output_type": "stream",
     "text": [
      "[[ 0.77153257 -0.58113663 -0.48280573  1.06736394 -0.99969106 -0.71092214\n",
      "   2.14665706 -0.96783586 -1.65738189 -0.35625958 -0.87167087 -0.7970598\n",
      "   1.12924229 -0.35154914  0.60699688  1.21352215  1.66647765  1.0447767\n",
      "   1.36035624 -0.9164065 ]]\n",
      "\u001B[1m1/1\u001B[0m \u001B[32m━━━━━━━━━━━━━━━━━━━━\u001B[0m\u001B[37m\u001B[0m \u001B[1m0s\u001B[0m 79ms/step\n",
      "[[0.11417961]]\n"
     ]
    }
   ]
  },
  {
   "cell_type": "code",
   "source": [
    "if prediction > 0.5:\n",
    "    print('Water is safe')\n",
    "else:\n",
    "    print('Water is not safe')"
   ],
   "metadata": {
    "execution": {
     "iopub.status.busy": "2024-07-23T15:26:06.227804Z",
     "iopub.execute_input": "2024-07-23T15:26:06.228171Z",
     "iopub.status.idle": "2024-07-23T15:26:06.233844Z",
     "shell.execute_reply.started": "2024-07-23T15:26:06.228143Z",
     "shell.execute_reply": "2024-07-23T15:26:06.232760Z"
    },
    "trusted": true,
    "ExecuteTime": {
     "end_time": "2024-07-24T12:51:58.250280Z",
     "start_time": "2024-07-24T12:51:58.241927Z"
    }
   },
   "execution_count": 15,
   "outputs": [
    {
     "name": "stdout",
     "output_type": "stream",
     "text": [
      "Water is not safe\n"
     ]
    }
   ]
  },
  {
   "cell_type": "code",
   "source": [
    "import joblib\n",
    "from sklearn.preprocessing import StandardScaler\n",
    "\n",
    "joblib.dump(sc, 'scaler.pkl')"
   ],
   "metadata": {
    "execution": {
     "iopub.status.busy": "2024-07-23T15:26:06.237457Z",
     "iopub.execute_input": "2024-07-23T15:26:06.238249Z",
     "iopub.status.idle": "2024-07-23T15:26:06.246561Z",
     "shell.execute_reply.started": "2024-07-23T15:26:06.238220Z",
     "shell.execute_reply": "2024-07-23T15:26:06.245469Z"
    },
    "trusted": true,
    "ExecuteTime": {
     "end_time": "2024-07-24T12:51:59.345740Z",
     "start_time": "2024-07-24T12:51:59.334297Z"
    }
   },
   "outputs": [
    {
     "data": {
      "text/plain": "['scaler.pkl']"
     },
     "execution_count": 16,
     "metadata": {},
     "output_type": "execute_result"
    }
   ],
   "execution_count": 16
  }
 ]
}
